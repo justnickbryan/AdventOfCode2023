{
 "cells": [
  {
   "cell_type": "code",
   "execution_count": 2,
   "id": "ef2913a8-4963-4f32-bc98-617ad08aec05",
   "metadata": {},
   "outputs": [],
   "source": [
    "# import libraries\n",
    "import os\n",
    "import re\n",
    "import pandas as pd"
   ]
  },
  {
   "cell_type": "code",
   "execution_count": 3,
   "id": "ab4c6db9-ccd7-477f-b4eb-8b5366c6f5b0",
   "metadata": {},
   "outputs": [],
   "source": [
    "# get path of current directory\n",
    "path_progs = os.getcwd()\n",
    "# split before last element of path and then select the first element\n",
    "path_root = os.path.split(path_progs)[0]\n",
    "path_data = os.path.join(path_root, 'Data')\n",
    "# get path to input file\n",
    "data_loc = os.path.join(path_data, 'd01.1_input.txt')"
   ]
  },
  {
   "cell_type": "code",
   "execution_count": 65,
   "id": "f064efeb-b330-4906-a767-b0077a27b20f",
   "metadata": {},
   "outputs": [
    {
     "name": "stdout",
     "output_type": "stream",
     "text": [
      "                                      raw\n",
      "0  eightfivesssxxmgthreethreeone1sevenhnz\n",
      "1             hzdlftdtfqfdbxgsix9onetwo13\n",
      "2                       29threelgxljfhrjr\n",
      "3                  pxvmbjprllmbfpzjxsvhc5\n",
      "4      seven2jtgjltvzbcdnjtsfiveonebhkzld\n"
     ]
    }
   ],
   "source": [
    "# whilst the text file is open\n",
    "with open(data_loc, 'r') as data_raw:\n",
    "    data = []\n",
    "    # iterate over each line of text file, separate it from the rest of the text strings and add it to the list\n",
    "    for line in data_raw:\n",
    "        data.append(line.split())\n",
    "\n",
    "# save as a dataframe\n",
    "dfRaw = pd.DataFrame(data, dtype = 'string', columns = ['raw'])\n",
    "print(dfRaw.head())"
   ]
  },
  {
   "cell_type": "markdown",
   "id": "e5fb783d",
   "metadata": {},
   "source": [
    "# Part A"
   ]
  },
  {
   "cell_type": "code",
   "execution_count": null,
   "id": "78768a8b",
   "metadata": {
    "tags": []
   },
   "outputs": [],
   "source": [
    "# extract the first numeric digit\n",
    "# note when using regex need to define the 'capture group' with parantheses around the regex\n",
    "# ?P<...> defines the name of the capture group\n",
    "digA = dfRaw['raw'].str.extract(r'(?P<firstDigit>[0-9])')\n",
    "# use a positive lookahead (which is non-capturing) to look for the last digit followed by letters at the end of the string\n",
    "digB = dfRaw['raw'].str.extract(r'(?P<lastDigit>[0-9])(?=[A-z]*$)')\n",
    "#print(digA.head())\n",
    "#print(digB.head())"
   ]
  },
  {
   "cell_type": "code",
   "execution_count": 67,
   "id": "4d24e0d2-a8a9-4671-8bfd-655c0b1a57cd",
   "metadata": {},
   "outputs": [
    {
     "name": "stdout",
     "output_type": "stream",
     "text": [
      "                                      raw firstDigit lastDigit twoDigit\n",
      "0  eightfivesssxxmgthreethreeone1sevenhnz          1         1       11\n",
      "1             hzdlftdtfqfdbxgsix9onetwo13          9         3       93\n",
      "2                       29threelgxljfhrjr          2         9       29\n",
      "3                  pxvmbjprllmbfpzjxsvhc5          5         5       55\n",
      "4      seven2jtgjltvzbcdnjtsfiveonebhkzld          2         2       22\n",
      "0    11\n",
      "1    93\n",
      "2    29\n",
      "3    55\n",
      "4    22\n",
      "Name: twoDigit, dtype: int32\n"
     ]
    }
   ],
   "source": [
    "df = dfRaw.copy()\n",
    "df['firstDigit'] = digA\n",
    "df['lastDigit'] = digB\n",
    "df['twoDigit'] = df.firstDigit + df.lastDigit\n",
    "\n",
    "print(df.head())\n",
    "\n",
    "twoDig = df['twoDigit'].astype(int)\n",
    "#print(twoDig.head())"
   ]
  },
  {
   "cell_type": "code",
   "execution_count": 68,
   "id": "689fcf50-1635-44e0-bb09-5abc62d22bc7",
   "metadata": {},
   "outputs": [
    {
     "name": "stdout",
     "output_type": "stream",
     "text": [
      "54630\n"
     ]
    }
   ],
   "source": [
    "solution = twoDig.sum()\n",
    "print(solution)"
   ]
  },
  {
   "cell_type": "markdown",
   "id": "e59f8da1",
   "metadata": {},
   "source": [
    "# Part B"
   ]
  },
  {
   "cell_type": "code",
   "execution_count": 87,
   "id": "d79c2422",
   "metadata": {},
   "outputs": [
    {
     "name": "stdout",
     "output_type": "stream",
     "text": [
      "(zero)|(one)|(two)|(three)|(four)|(five)|(six)|(seven)|(eight)|(nine)\n",
      "zero|one|two|three|four|five|six|seven|eight|nine\n"
     ]
    }
   ],
   "source": [
    "digits = ['zero', 'one', 'two', 'three', 'four', 'five', 'six', 'seven', 'eight', 'nine']\n",
    "digits2 = '|'.join(digits)\n",
    "print(digits2)"
   ]
  },
  {
   "cell_type": "code",
   "execution_count": 96,
   "id": "2a62cdea",
   "metadata": {},
   "outputs": [
    {
     "name": "stdout",
     "output_type": "stream",
     "text": [
      "  firstDigit\n",
      "0      eight\n",
      "1        six\n",
      "2          2\n",
      "3          5\n",
      "4      seven\n",
      "  lastDigit\n",
      "0      five\n",
      "1         3\n",
      "2     three\n",
      "3         5\n",
      "4         2\n"
     ]
    }
   ],
   "source": [
    "# extract either numeric or written digits\n",
    "digA = dfRaw['raw'].str.extract(r'(?P<firstDigit>[0-9]|zero|one|two|three|four|five|six|seven|eight|nine)')\n",
    "# digB not working yet\n",
    "digB = dfRaw['raw'].str.extract(r'(?P<lastDigit>[0-9]|zero|one|two|three|four|five|six|seven|eight|nine)(?![0-9]|zero|one|two|three|four|five|six|seven|eight|nine)')\n",
    "print(digA.head())\n",
    "print(digB.head())"
   ]
  },
  {
   "cell_type": "code",
   "execution_count": null,
   "id": "753db30a",
   "metadata": {},
   "outputs": [],
   "source": []
  }
 ],
 "metadata": {
  "kernelspec": {
   "display_name": "Python 3 (ipykernel)",
   "language": "python",
   "name": "python3"
  },
  "language_info": {
   "codemirror_mode": {
    "name": "ipython",
    "version": 3
   },
   "file_extension": ".py",
   "mimetype": "text/x-python",
   "name": "python",
   "nbconvert_exporter": "python",
   "pygments_lexer": "ipython3",
   "version": "3.11.5"
  }
 },
 "nbformat": 4,
 "nbformat_minor": 5
}
